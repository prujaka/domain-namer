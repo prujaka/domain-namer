{
 "cells": [
  {
   "metadata": {
    "ExecuteTime": {
     "end_time": "2025-08-11T20:37:48.798528Z",
     "start_time": "2025-08-11T20:37:48.786074Z"
    }
   },
   "cell_type": "code",
   "source": [
    "import os\n",
    "import json\n",
    "\n",
    "from openai import OpenAI\n",
    "\n",
    "from domainnamer.constants import DEEPINFRA_API_KEY_AUTO\n",
    "from domainnamer.reporting import generate_markdown_report, write_reports\n",
    "from domainnamer.llmrun import generate_multiple_outputs\n",
    "from domainnamer.utils import read_prompt"
   ],
   "id": "d0e85e505ce4f17b",
   "outputs": [],
   "execution_count": 76
  },
  {
   "cell_type": "code",
   "id": "initial_id",
   "metadata": {
    "collapsed": true,
    "ExecuteTime": {
     "end_time": "2025-08-06T13:32:28.701603Z",
     "start_time": "2025-08-06T13:32:28.641859Z"
    }
   },
   "source": [
    "if os.getcwd().split('/')[-1] == 'notebooks':\n",
    "    os.chdir('..')\n",
    "\n",
    "%load_ext autoreload\n",
    "%autoreload 2"
   ],
   "outputs": [],
   "execution_count": 2
  },
  {
   "metadata": {
    "ExecuteTime": {
     "end_time": "2025-08-07T14:17:30.108626Z",
     "start_time": "2025-08-07T14:17:30.077122Z"
    }
   },
   "cell_type": "code",
   "source": [
    "openai = OpenAI(\n",
    "    api_key=f\"{DEEPINFRA_API_KEY_AUTO}\",\n",
    "    base_url=\"https://api.deepinfra.com/v1/openai\",\n",
    ")"
   ],
   "id": "776d8baad393e2f5",
   "outputs": [],
   "execution_count": 17
  },
  {
   "metadata": {
    "ExecuteTime": {
     "end_time": "2025-08-07T14:17:31.377893Z",
     "start_time": "2025-08-07T14:17:31.359783Z"
    }
   },
   "cell_type": "code",
   "source": [
    "with open('samples/v1/prompt.txt', 'r') as f:\n",
    "    prompt_lines = f.readlines()\n",
    "prompt_system = ''.join(prompt_lines)"
   ],
   "id": "160cab88d2a7bc0a",
   "outputs": [],
   "execution_count": 18
  },
  {
   "metadata": {
    "ExecuteTime": {
     "end_time": "2025-08-08T10:55:20.771879Z",
     "start_time": "2025-08-08T10:55:12.302835Z"
    }
   },
   "cell_type": "code",
   "source": [
    "prompt_user = \"Hipster remote worker coffee shop in Paris\"\n",
    "\n",
    "chat_completion = openai.chat.completions.create(\n",
    "    model='meta-llama/Llama-4-Scout-17B-16E-Instruct',\n",
    "    messages=[\n",
    "        {'role': 'system', 'content': f'{prompt_system}'},\n",
    "        {'role': 'user', 'content': f'{prompt_user}'}]\n",
    ")\n",
    "print(chat_completion.choices[0].message.content)"
   ],
   "id": "18034062e9d8fd51",
   "outputs": [
    {
     "name": "stdout",
     "output_type": "stream",
     "text": [
      "Thinking about a hipster remote worker coffee shop in Paris—here’s the vibe I’m getting:\n",
      "It’s a cozy, stylish spot where creatives and freelancers meet, sip artisan coffee, and work with good Wi-Fi and a chill atmosphere. The name should feel fresh, trendy, and easy to say, with a subtle nod to Paris, coffee culture, or remote work. Nothing too literal like “Paris Coffee Remote” but something with personality and a hint of urban cool.\n",
      "Words and concepts sparking ideas: Brew, Bean, Loft, Nook, Pixel, Roam, Muse, Grind, Tap, Café, Nomad, Sip, Parisian flair, digital freedom, creative flow.\n",
      "\n",
      "Short and punchy, ideally one or two words. Names that feel like a brand you want on your laptop stickers or a tote bag.\n",
      "\n",
      "Let me brainstorm a bit:\n",
      "\n",
      "“Beanloft” — combines the coffee bean with a cool, airy workspace vibe.\n",
      "“RoamSip” — nods to remote work (roam) and coffee (sip), playful and easy to remember.\n",
      "“MuseBrew” — inspiring place fueled by coffee.\n",
      "“CaféVibe” — simple, but evokes both the café culture and cool atmosphere.\n",
      "“ParisPerk” — subtle nod to Paris and the perk you get from coffee.\n",
      "\n",
      "<final_list>\n",
      "MuseBrew.com\n",
      "RoamSip.com\n",
      "Beanloft.com\n",
      "ParisPerk.com\n",
      "CaféVibe.com\n",
      "</final_list>\n"
     ]
    }
   ],
   "execution_count": 21
  },
  {
   "metadata": {
    "ExecuteTime": {
     "end_time": "2025-08-08T10:53:36.427047Z",
     "start_time": "2025-08-08T10:53:31.142082Z"
    }
   },
   "cell_type": "code",
   "source": [
    "prompt_user = \"Hipster remote worker coffee shop in Paris\"\n",
    "\n",
    "chat_completion = openai.chat.completions.create(\n",
    "    model='meta-llama/Llama-4-Maverick-17B-128E-Instruct-FP8',\n",
    "    messages=[\n",
    "        {'role': 'system', 'content': f'{prompt_system}'},\n",
    "        {'role': 'user', 'content': f'{prompt_user}'}]\n",
    ")\n",
    "print(chat_completion.choices[0].message.content)"
   ],
   "id": "d5c14a69532c2cf3",
   "outputs": [
    {
     "name": "stdout",
     "output_type": "stream",
     "text": [
      "<brainstorm>\n",
      "For a hipster remote worker coffee shop in Paris, I need a name that's trendy, memorable, and has a certain je ne sais quoi. The vibe is all about a stylish, cozy spot where creatives and freelancers gather to work and enjoy great coffee. I'm thinking of words that evoke a sense of Parisian chic, coffee culture, and the freedom of remote work. Some concepts that spark ideas include: Café, Brew, Loft, Pixel, Nomad, Sip, and Muse.\n",
      "\n",
      "To create a brand that's not just a label, I want a name that's short, simple, and injects personality. I'm aiming for something that sounds great in ads and looks fantastic in a logo. No purely descriptive phrases or awkward spellings.\n",
      "\n",
      "Let's brainstorm some names:\n",
      "Combining coffee and workspace vibes could work well. Names like \"Beanloft\" or \"GrindLoft\" come to mind, blending the coffee culture with a cool, airy workspace feel. \"RoamSip\" and \"NomadSip\" nod to the remote work lifestyle while incorporating the idea of sipping coffee. \"MuseBrew\" and \"TapRoast\" suggest a creative, inspiring atmosphere fueled by great coffee. \"SipNest\" conveys a cozy, welcoming spot.\n",
      "\n",
      "</brainstorm>\n",
      "\n",
      "<final_list>\n",
      "Beanloft.com\n",
      "RoamSip.com\n",
      "MuseBrew.com\n",
      "TapRoast.com\n",
      "SipNest.com\n",
      "</final_list>\n"
     ]
    }
   ],
   "execution_count": 20
  },
  {
   "metadata": {
    "ExecuteTime": {
     "end_time": "2025-08-08T11:09:36.543478Z",
     "start_time": "2025-08-08T11:09:01.088546Z"
    }
   },
   "cell_type": "code",
   "source": [
    "prompt_user = \"Hipster remote worker coffee shop in Paris\"\n",
    "\n",
    "chat_completion = openai.chat.completions.create(\n",
    "    model='zai-org/GLM-4.5',\n",
    "    messages=[\n",
    "        {'role': 'system', 'content': f'{prompt_system}'},\n",
    "        {'role': 'user', 'content': f'{prompt_user}'}]\n",
    ")\n",
    "print(chat_completion.choices[0].message.content)"
   ],
   "id": "b9539ee869af2ffb",
   "outputs": [
    {
     "name": "stdout",
     "output_type": "stream",
     "text": [
      "<think>Alright, the user wants me to generate domain name ideas for a hipster remote worker coffee shop in Paris. Let me start by understanding the core elements here. The shop is in Paris, which adds a chic, artistic vibe. It's targeting remote workers, especially hipsters, so the name needs to be trendy, maybe a bit eclectic. They'll need coffee, Wi-Fi, and a space that's both inspiring and comfortable.\n",
      "\n",
      "First, I should focus on blending key themes: coffee culture, remote work, and Parisian charm. Words like \"brew,\" \"bean,\" \"loft,\" or \"nook\" come to mind for the coffee aspect. For remote work, terms like \"pixel,\" \"roam,\" \"nomad\" could work. Parisian elements might be subtle—maybe using French-inspired words or references without being too obvious.\n",
      "\n",
      "The user emphasized memorability and pronounceability. So, the names should be short, one or two syllables if possible. Avoid hyphens or numbers. Also, check for cultural safety—no unintended meanings in French or other languages. \n",
      "\n",
      "Looking at the example they provided, names like \"Beanloft\" and \"RoamSip\" were used. Those combine two concepts smoothly. I should aim for similar blends. Maybe \"Grind\" for coffee and \"Hive\" for community? \"Grindhive\" sounds catchy. \n",
      "\n",
      "Another angle: Paris is known for its artistic history. \"Muse\" could reference inspiration, paired with a coffee term. \"MuseBrew\" was in the example, but maybe \"MugMuse\" for a twist? Or \"Perch\" as in a place to perch and work, combined with \"Paris\" subtly. \"PerchParis\" might be too literal, though. \"Perch\" alone could work if it implies a high, cozy spot. \n",
      "\n",
      "Remote workers often seek a \"hub\" or \"nook.\" \"HubHaus\" uses \"haus\" for a trendy, German-inspired feel, which might resonate with the hipster crowd. Or \"Cove\" as a hidden gem—workcove? \"WorkCove\" is straightforward but maybe lacks uniqueness. \n",
      "\n",
      "Need to ensure the names are brandable, not descriptive. Avoid phrases like \"ParisCoffeeWork.\" Instead, evoke the atmosphere. \"Verve\" means energy and enthusiasm, paired with \"Grind\" for coffee. \"VerveGrind\" has a nice ring. \n",
      "\n",
      "Also, check domain availability. .com is preferred, but if there's a niche TLD that fits, like .cafe, maybe consider it. However, the user specified default to .com. Social handles should be free too, so names need to be unique enough. \n",
      "\n",
      "Future-proofing is important. The name shouldn't limit the business to just coffee or remote work. Maybe expand to events or merchandise. Terms like \"Hive\" or \"Hub\" suggest a community space that could grow. \n",
      "\n",
      "Cultural safety: \"Haus\" is German, but in Paris, it might be seen as international. \"Perch\" is neutral. \"Verve\" is French-derived, which is a plus. \n",
      "\n",
      "Final list needs five options. Let me brainstorm: \n",
      "1. Grindhive - combines coffee grind and a busy hive of activity. \n",
      "2. HubHaus - hub for community, haus for a cool, modern space. \n",
      "3. PerchParis - a bit literal, but \"Perch\" implies a spot to settle in. Maybe too on-the-nose? \n",
      "4. VerveGrind - energy and coffee, French connection with \"verve.\" \n",
      "5. MugMuse - coffee mug and inspiration, playful. \n",
      "\n",
      "Check if these meet all criteria: short, brandable, no hyphens, subtle clues. \"MugMuse\" might be too cute? \"PerchParis\" has Paris in it, which could be good but might limit if they expand. Maybe \"LuxePerch\" instead? But that adds length. \n",
      "\n",
      "Refine: \n",
      "- Grindhive.com \n",
      "- HubHaus.com \n",
      "- VerveGrind.com \n",
      "- WorkCove.com (though a bit descriptive) \n",
      "- SipLoft.com (from the example, but new) \n",
      "\n",
      "Wait, the user's example had \"SipNest.\" Similar. Maybe \"RoamRoast\" for remote work and coffee. But let's stick to original ideas. \n",
      "\n",
      "After consideration, the final list should be: Grindhive, HubHaus, VerveGrind, PerchParis, and MugMuse. But PerchParis might be too literal. Alternative: \"ParisPerch\" but same issue. \n",
      "\n",
      "Another idea: \"BloomBrew\" for growth and coffee. Or \"NookNectar\" for a cozy spot and coffee as nectar. But \"nectar\" might not be clear. \n",
      "\n",
      "Settle on: \n",
      "1. Grindhive.com \n",
      "2. HubHaus.com \n",
      "3. VerveGrind.com \n",
      "4. WorkCove.com \n",
      "5. SipLoft.com \n",
      "\n",
      "But WorkCove is descriptive. Replace with \"MugMuse\" or \"RoamBrew.\" Let's go with RoamBrew.com for the mix of remote work and coffee. \n",
      "\n",
      "Final check: All short, memorable, brandable, no hyphens. Grindhive, HubHaus, VerveGrind, RoamBrew, SipLoft. SipLoft was in the example, but it's a solid choice. Alternatively, \"CafeVerve\" but might be too cafe-focused. \n",
      "\n",
      "Alright, the list is set.</think><brainstorm>\n",
      "Alright, diving into this hipster remote worker coffee shop in Paris—it’s all about merging artisanal coffee, remote work flexibility, and that effortlessly cool Parisian aesthetic. The name needs to feel like a hidden gem: creative, cozy, and effortlessly chic, with a whisper of tech or nomad culture. Think exposed brick, vintage laptops, and the aroma of single-origin beans. Words bubbling up: \"grind\" (coffee/work), \"hive\" (community), \"haus\" (trendy space), \"perch\" (cozy spot), \"verve\" (Parisian energy), \"mug\" (coffee), \"roam\" (remote), and \"loft\" (airy, creative vibe). It should *feel* like a brand you’d hashtag on Instagram—not a dry description. Short, punchy, and globally safe: no French puns that confuse non-natives, and no tech jargon that dates it. Let’s blend coffee, work, and Parisian soul into something sticky and shareable.\n",
      "</brainstorm>\n",
      "\n",
      "<final_list>\n",
      "Grindhive.com\n",
      "HubHaus.com\n",
      "VerveGrind.com\n",
      "RoamBrew.com\n",
      "SipLoft.com\n",
      "</final_list>\n"
     ]
    }
   ],
   "execution_count": 23
  },
  {
   "metadata": {
    "ExecuteTime": {
     "end_time": "2025-08-11T20:41:22.898763Z",
     "start_time": "2025-08-11T20:41:22.871002Z"
    }
   },
   "cell_type": "code",
   "source": [
    "openai = OpenAI(\n",
    "    api_key=f\"{DEEPINFRA_API_KEY_AUTO}\",\n",
    "    base_url=\"https://api.deepinfra.com/v1/openai\",\n",
    ")\n",
    "model_names = [\n",
    "    'meta-llama/Llama-4-Maverick-17B-128E-Instruct-FP8',\n",
    "    'zai-org/GLM-4.5',\n",
    "    'openai/gpt-oss-120b'\n",
    "]\n",
    "# descriptions = [\n",
    "#     \"Hipster remote worker coffee shop in Paris\",\n",
    "#     \"Bike shop for posers\",\n",
    "# ]\n",
    "\n",
    "descriptions = [\n",
    "    \"Retro arcade bar in Tokyo\",\n",
    "    \"AI-powered legal assistant\",\n",
    "    \"Sustainable fashion rental app\",\n",
    "    \"Gourmet dog bakery\",\n",
    "    \"Virtual reality fitness studio\"\n",
    "]\n",
    "\n",
    "prompt_system = read_prompt('samples/v1/prompt.txt')"
   ],
   "id": "14d52391a701bed",
   "outputs": [],
   "execution_count": 79
  },
  {
   "metadata": {
    "ExecuteTime": {
     "end_time": "2025-08-11T20:44:35.253581Z",
     "start_time": "2025-08-11T20:41:25.880187Z"
    }
   },
   "cell_type": "code",
   "source": "outputs = generate_multiple_outputs(openai, model_names, prompt_system, descriptions)",
   "id": "2f7e3fdd3f947e76",
   "outputs": [],
   "execution_count": 80
  },
  {
   "metadata": {
    "ExecuteTime": {
     "end_time": "2025-08-11T20:44:35.310671Z",
     "start_time": "2025-08-11T20:44:35.296486Z"
    }
   },
   "cell_type": "code",
   "source": [
    "with open('samples/v1/outputs.json', 'w') as f:\n",
    "    json.dump(outputs, f, indent=4)"
   ],
   "id": "f0307f21bb3fe074",
   "outputs": [],
   "execution_count": 81
  },
  {
   "metadata": {
    "ExecuteTime": {
     "end_time": "2025-08-11T20:44:35.329296Z",
     "start_time": "2025-08-11T20:44:35.317440Z"
    }
   },
   "cell_type": "code",
   "source": "write_reports(outputs, prompt_system, 'samples/v1')",
   "id": "85f5de01f166b35b",
   "outputs": [],
   "execution_count": 82
  },
  {
   "metadata": {},
   "cell_type": "code",
   "outputs": [],
   "execution_count": null,
   "source": "",
   "id": "6a948737c1b7f45b"
  }
 ],
 "metadata": {
  "kernelspec": {
   "display_name": "Python 3",
   "language": "python",
   "name": "python3"
  },
  "language_info": {
   "codemirror_mode": {
    "name": "ipython",
    "version": 2
   },
   "file_extension": ".py",
   "mimetype": "text/x-python",
   "name": "python",
   "nbconvert_exporter": "python",
   "pygments_lexer": "ipython2",
   "version": "2.7.6"
  }
 },
 "nbformat": 4,
 "nbformat_minor": 5
}
