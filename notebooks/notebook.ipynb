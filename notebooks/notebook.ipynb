{
 "cells": [
  {
   "metadata": {
    "ExecuteTime": {
     "end_time": "2025-08-06T13:32:28.637269Z",
     "start_time": "2025-08-06T13:32:28.340487Z"
    }
   },
   "cell_type": "code",
   "source": [
    "import os\n",
    "import json\n",
    "\n",
    "from openai import OpenAI\n",
    "\n",
    "from domainnamer.constants import DEEPINFRA_API_KEY_AUTO"
   ],
   "id": "d0e85e505ce4f17b",
   "outputs": [],
   "execution_count": 1
  },
  {
   "cell_type": "code",
   "id": "initial_id",
   "metadata": {
    "collapsed": true,
    "ExecuteTime": {
     "end_time": "2025-08-06T13:32:28.701603Z",
     "start_time": "2025-08-06T13:32:28.641859Z"
    }
   },
   "source": [
    "if os.getcwd().split('/')[-1] == 'notebooks':\n",
    "    os.chdir('..')\n",
    "\n",
    "%load_ext autoreload\n",
    "%autoreload 2"
   ],
   "outputs": [],
   "execution_count": 2
  },
  {
   "metadata": {
    "ExecuteTime": {
     "end_time": "2025-08-07T14:17:30.108626Z",
     "start_time": "2025-08-07T14:17:30.077122Z"
    }
   },
   "cell_type": "code",
   "source": [
    "openai = OpenAI(\n",
    "    api_key=f\"{DEEPINFRA_API_KEY_AUTO}\",\n",
    "    base_url='https://api.deepinfra.com/v1/openai',\n",
    ")"
   ],
   "id": "776d8baad393e2f5",
   "outputs": [],
   "execution_count": 17
  },
  {
   "metadata": {
    "ExecuteTime": {
     "end_time": "2025-08-07T14:17:31.377893Z",
     "start_time": "2025-08-07T14:17:31.359783Z"
    }
   },
   "cell_type": "code",
   "source": [
    "with open('samples/v1/prompt.txt', 'r') as f:\n",
    "    prompt_lines = f.readlines()\n",
    "prompt_system = ''.join(prompt_lines)"
   ],
   "id": "160cab88d2a7bc0a",
   "outputs": [],
   "execution_count": 18
  },
  {
   "metadata": {
    "ExecuteTime": {
     "end_time": "2025-08-07T14:17:39.560621Z",
     "start_time": "2025-08-07T14:17:32.139804Z"
    }
   },
   "cell_type": "code",
   "source": [
    "prompt_user = \"Hipster remote worker coffee shop in Paris\"\n",
    "\n",
    "chat_completion = openai.chat.completions.create(\n",
    "    model='meta-llama/Llama-4-Scout-17B-16E-Instruct',\n",
    "    messages=[\n",
    "        {'role': 'system', 'content': f'{prompt_system}'},\n",
    "        {'role': 'user', 'content': f'{prompt_user}'}]\n",
    ")\n",
    "print(chat_completion.choices[0].message.content)"
   ],
   "id": "18034062e9d8fd51",
   "outputs": [
    {
     "name": "stdout",
     "output_type": "stream",
     "text": [
      "Thinking about a hipster remote worker coffee shop in Paris—here’s the vibe I’m getting:\n",
      "It’s a cozy, stylish spot where creatives and freelancers meet, sip artisan coffee, and work with good Wi-Fi and a chill atmosphere. The name should feel fresh, trendy, and easy to say, with a subtle nod to Paris, coffee culture, or remote work. Nothing too literal like “Paris Coffee Remote” but something with personality and a hint of urban cool.\n",
      "Words and concepts sparking ideas: Brew, Bean, Loft, Nook, Pixel, Roam, Muse, Grind, Tap, Café, Nomad, Sip, Parisian flair, digital freedom, creative flow.\n",
      "\n",
      "Short and punchy, ideally one or two words. Names that feel like a brand you want on your laptop stickers or a tote bag.\n",
      "\n",
      "Let me brainstorm a bit:\n",
      "\n",
      "“Beanloft” — combines the coffee bean with a cool, airy workspace vibe.\n",
      "“RoamSip” — nods to remote work (roam) and coffee (sip), playful and easy to remember.\n",
      "“MuseBrew” — inspiring place fueled by coffee.\n",
      "“CaféVibe” — simple, but evokes both the café culture and cool atmosphere.\n",
      "“TapRoast” — hints at coffee and the act of typing or tapping away on devices.\n",
      "\n",
      "<final_list>\n",
      "MuseBrew.com\n",
      "RoamSip.com\n",
      "Beanloft.com\n",
      "CafeVibe.co\n",
      "TapRoast.com\n"
     ]
    }
   ],
   "execution_count": 19
  }
 ],
 "metadata": {
  "kernelspec": {
   "display_name": "Python 3",
   "language": "python",
   "name": "python3"
  },
  "language_info": {
   "codemirror_mode": {
    "name": "ipython",
    "version": 2
   },
   "file_extension": ".py",
   "mimetype": "text/x-python",
   "name": "python",
   "nbconvert_exporter": "python",
   "pygments_lexer": "ipython2",
   "version": "2.7.6"
  }
 },
 "nbformat": 4,
 "nbformat_minor": 5
}
