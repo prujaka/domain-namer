{
 "cells": [
  {
   "metadata": {
    "ExecuteTime": {
     "end_time": "2025-08-13T12:22:14.281988Z",
     "start_time": "2025-08-13T12:22:14.253996Z"
    }
   },
   "cell_type": "code",
   "source": [
    "import os\n",
    "import json\n",
    "\n",
    "from openai import OpenAI\n",
    "\n",
    "from domainnamer.constants import DEEPINFRA_API_KEY_AUTO, OPENAI_API_KEY\n",
    "from domainnamer.reporting import write_reports\n",
    "from domainnamer.llmrun import generate_outputs\n",
    "from domainnamer.utils import read_prompt"
   ],
   "id": "d0e85e505ce4f17b",
   "outputs": [],
   "execution_count": 95
  },
  {
   "cell_type": "code",
   "id": "initial_id",
   "metadata": {
    "collapsed": true,
    "ExecuteTime": {
     "end_time": "2025-08-06T13:32:28.701603Z",
     "start_time": "2025-08-06T13:32:28.641859Z"
    }
   },
   "source": [
    "if os.getcwd().split('/')[-1] == 'notebooks':\n",
    "    os.chdir('..')\n",
    "\n",
    "%load_ext autoreload\n",
    "%autoreload 2"
   ],
   "outputs": [],
   "execution_count": 2
  },
  {
   "metadata": {
    "ExecuteTime": {
     "end_time": "2025-08-14T13:21:42.683598Z",
     "start_time": "2025-08-14T13:21:42.658342Z"
    }
   },
   "cell_type": "code",
   "outputs": [],
   "execution_count": 110,
   "source": [
    "openai = OpenAI(\n",
    "    api_key=f\"{DEEPINFRA_API_KEY_AUTO}\",\n",
    "    base_url=\"https://api.deepinfra.com/v1/openai\",\n",
    ")\n",
    "\n",
    "model_names = [\n",
    "    'meta-llama/Llama-4-Maverick-17B-128E-Instruct-FP8',\n",
    "    'zai-org/GLM-4.5',\n",
    "    'openai/gpt-oss-120b',\n",
    "]\n",
    "\n",
    "descriptions = [\n",
    "    \"Retro arcade bar in Tokyo\",\n",
    "    \"AI-powered legal assistant\",\n",
    "    \"Sustainable fashion rental app\",\n",
    "    \"Gourmet dog bakery\",\n",
    "    \"Virtual reality fitness studio\"\n",
    "]\n",
    "\n",
    "prompt_system = read_prompt('samples/dataset_experiments/models_2/prompt.txt')\n",
    "system_prompts = [prompt_system]\n",
    "outputs = generate_outputs(openai, model_names, system_prompts, descriptions)\n",
    "write_reports(outputs, 'samples/dataset_experiments/models_2')"
   ],
   "id": "419a8c123403c820"
  },
  {
   "metadata": {
    "ExecuteTime": {
     "end_time": "2025-08-14T13:25:38.333454Z",
     "start_time": "2025-08-14T13:21:52.104122Z"
    }
   },
   "cell_type": "code",
   "source": [
    "openai = OpenAI(api_key=f\"{OPENAI_API_KEY}\")\n",
    "model_names = [\n",
    "    'gpt-4.1',\n",
    "    'gpt-5'\n",
    "]\n",
    "outputs_openai = generate_outputs(openai, model_names, system_prompts, descriptions)\n",
    "write_reports(outputs_openai, 'samples/dataset_experiments/models_2')"
   ],
   "id": "3bf211adb628b297",
   "outputs": [],
   "execution_count": 111
  },
  {
   "metadata": {
    "ExecuteTime": {
     "end_time": "2025-08-14T13:26:14.850814Z",
     "start_time": "2025-08-14T13:26:14.839827Z"
    }
   },
   "cell_type": "code",
   "source": [
    "with open('samples/dataset_experiments/models_2/outputs.json', 'w') as f:\n",
    "    json.dump(outputs_openai, f, indent=4)"
   ],
   "id": "e056f3a59662864",
   "outputs": [],
   "execution_count": 113
  }
 ],
 "metadata": {
  "kernelspec": {
   "display_name": "Python 3",
   "language": "python",
   "name": "python3"
  },
  "language_info": {
   "codemirror_mode": {
    "name": "ipython",
    "version": 2
   },
   "file_extension": ".py",
   "mimetype": "text/x-python",
   "name": "python",
   "nbconvert_exporter": "python",
   "pygments_lexer": "ipython2",
   "version": "2.7.6"
  }
 },
 "nbformat": 4,
 "nbformat_minor": 5
}
